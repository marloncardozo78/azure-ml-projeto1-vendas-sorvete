{
  "cells": [
    {
      "cell_type": "code",
      "source": [
        "import pandas as pd\n",
        "import numpy as np\n",
        "from sklearn.model_selection import train_test_split\n",
        "from sklearn.linear_model import LinearRegression\n",
        "from sklearn.metrics import r2_score, mean_absolute_error\n",
        "\n",
        "print(\"Bibliotecas OK\")\n"
      ],
      "outputs": [
        {
          "output_type": "stream",
          "name": "stdout",
          "text": "Bibliotecas OK\n"
        }
      ],
      "execution_count": 3,
      "metadata": {
        "gather": {
          "logged": 1760705876738
        }
      }
    },
    {
      "cell_type": "code",
      "source": [
        "import numpy as np\n",
        "import pandas as pd\n",
        "\n",
        "# reprodutibilidade\n",
        "np.random.seed(42)\n",
        "\n",
        "n = 100\n",
        "temperatura_c = np.random.uniform(15, 40, n).round(1)  # 15°C a 40°C\n",
        "# relação linear simples: quanto mais quente, mais vende (com ruído)\n",
        "vendas = (50 + 20*temperatura_c + np.random.normal(0, 30, n)).round()\n",
        "vendas = np.clip(vendas, 0, None).astype(int)\n",
        "\n",
        "df = pd.DataFrame({\"temperatura_c\": temperatura_c, \"vendas\": vendas})\n",
        "\n",
        "print(df.shape)\n",
        "pd.set_option('display.max_rows', None)\n",
        "df\n",
        "\n"
      ],
      "outputs": [
        {
          "output_type": "stream",
          "name": "stdout",
          "text": "(100, 2)\n"
        },
        {
          "output_type": "execute_result",
          "execution_count": 11,
          "data": {
            "text/plain": "    temperatura_c  vendas\n0            24.4     541\n1            38.8     817\n2            33.3     719\n3            30.0     590\n4            18.9     421\n5            18.9     439\n6            16.5     424\n7            36.7     768\n8            30.0     626\n9            32.7     689\n10           15.5     387\n11           39.2     844\n12           35.8     750\n13           20.3     471\n14           19.5     443\n15           19.6     471\n16           22.6     481\n17           28.1     602\n18           25.8     554\n19           22.3     452\n20           30.3     665\n21           18.5     428\n22           22.3     496\n23           24.2     527\n24           26.4     536\n25           34.6     729\n26           20.0     440\n27           27.9     584\n28           29.8     641\n29           16.2     386\n30           30.2     711\n31           19.3     441\n32           16.6     390\n33           38.7     822\n34           39.1     774\n35           35.2     753\n36           22.6     504\n37           17.4     472\n38           32.1     686\n39           26.0     579\n40           18.1     411\n41           27.4     563\n42           15.9     402\n43           37.7     827\n44           21.5     504\n45           31.6     655\n46           22.8     548\n47           28.0     568\n48           28.7     642\n49           19.6     508\n50           39.2     804\n51           34.4     721\n52           38.5     823\n53           37.4     783\n54           29.9     601\n55           38.0     812\n56           17.2     362\n57           19.9     462\n58           16.1     344\n59           23.1     558\n60           24.7     521\n61           21.8     476\n62           35.7     788\n63           23.9     491\n64           22.0     497\n65           28.6     661\n66           18.5     372\n67           35.1     758\n68           16.9     396\n69           39.7     867\n70           34.3     699\n71           20.0     410\n72           15.1     368\n73           35.4     767\n74           32.7     712\n75           33.2     724\n76           34.3     716\n77           16.9     395\n78           24.0     539\n79           17.9     387\n80           36.6     838\n81           30.6     676\n82           23.3     480\n83           16.6     402\n84           22.8     477\n85           23.1     536\n86           33.2     749\n87           30.9     643\n88           37.2     823\n89           26.8     598\n90           18.0     435\n91           32.8     763\n92           34.0     723\n93           29.0     607\n94           34.3     709\n95           27.3     572\n96           28.1     610\n97           25.7     574\n98           15.6     370\n99           17.7     429",
            "text/html": "<div>\n<style scoped>\n    .dataframe tbody tr th:only-of-type {\n        vertical-align: middle;\n    }\n\n    .dataframe tbody tr th {\n        vertical-align: top;\n    }\n\n    .dataframe thead th {\n        text-align: right;\n    }\n</style>\n<table border=\"1\" class=\"dataframe\">\n  <thead>\n    <tr style=\"text-align: right;\">\n      <th></th>\n      <th>temperatura_c</th>\n      <th>vendas</th>\n    </tr>\n  </thead>\n  <tbody>\n    <tr>\n      <th>0</th>\n      <td>24.4</td>\n      <td>541</td>\n    </tr>\n    <tr>\n      <th>1</th>\n      <td>38.8</td>\n      <td>817</td>\n    </tr>\n    <tr>\n      <th>2</th>\n      <td>33.3</td>\n      <td>719</td>\n    </tr>\n    <tr>\n      <th>3</th>\n      <td>30.0</td>\n      <td>590</td>\n    </tr>\n    <tr>\n      <th>4</th>\n      <td>18.9</td>\n      <td>421</td>\n    </tr>\n    <tr>\n      <th>5</th>\n      <td>18.9</td>\n      <td>439</td>\n    </tr>\n    <tr>\n      <th>6</th>\n      <td>16.5</td>\n      <td>424</td>\n    </tr>\n    <tr>\n      <th>7</th>\n      <td>36.7</td>\n      <td>768</td>\n    </tr>\n    <tr>\n      <th>8</th>\n      <td>30.0</td>\n      <td>626</td>\n    </tr>\n    <tr>\n      <th>9</th>\n      <td>32.7</td>\n      <td>689</td>\n    </tr>\n    <tr>\n      <th>10</th>\n      <td>15.5</td>\n      <td>387</td>\n    </tr>\n    <tr>\n      <th>11</th>\n      <td>39.2</td>\n      <td>844</td>\n    </tr>\n    <tr>\n      <th>12</th>\n      <td>35.8</td>\n      <td>750</td>\n    </tr>\n    <tr>\n      <th>13</th>\n      <td>20.3</td>\n      <td>471</td>\n    </tr>\n    <tr>\n      <th>14</th>\n      <td>19.5</td>\n      <td>443</td>\n    </tr>\n    <tr>\n      <th>15</th>\n      <td>19.6</td>\n      <td>471</td>\n    </tr>\n    <tr>\n      <th>16</th>\n      <td>22.6</td>\n      <td>481</td>\n    </tr>\n    <tr>\n      <th>17</th>\n      <td>28.1</td>\n      <td>602</td>\n    </tr>\n    <tr>\n      <th>18</th>\n      <td>25.8</td>\n      <td>554</td>\n    </tr>\n    <tr>\n      <th>19</th>\n      <td>22.3</td>\n      <td>452</td>\n    </tr>\n    <tr>\n      <th>20</th>\n      <td>30.3</td>\n      <td>665</td>\n    </tr>\n    <tr>\n      <th>21</th>\n      <td>18.5</td>\n      <td>428</td>\n    </tr>\n    <tr>\n      <th>22</th>\n      <td>22.3</td>\n      <td>496</td>\n    </tr>\n    <tr>\n      <th>23</th>\n      <td>24.2</td>\n      <td>527</td>\n    </tr>\n    <tr>\n      <th>24</th>\n      <td>26.4</td>\n      <td>536</td>\n    </tr>\n    <tr>\n      <th>25</th>\n      <td>34.6</td>\n      <td>729</td>\n    </tr>\n    <tr>\n      <th>26</th>\n      <td>20.0</td>\n      <td>440</td>\n    </tr>\n    <tr>\n      <th>27</th>\n      <td>27.9</td>\n      <td>584</td>\n    </tr>\n    <tr>\n      <th>28</th>\n      <td>29.8</td>\n      <td>641</td>\n    </tr>\n    <tr>\n      <th>29</th>\n      <td>16.2</td>\n      <td>386</td>\n    </tr>\n    <tr>\n      <th>30</th>\n      <td>30.2</td>\n      <td>711</td>\n    </tr>\n    <tr>\n      <th>31</th>\n      <td>19.3</td>\n      <td>441</td>\n    </tr>\n    <tr>\n      <th>32</th>\n      <td>16.6</td>\n      <td>390</td>\n    </tr>\n    <tr>\n      <th>33</th>\n      <td>38.7</td>\n      <td>822</td>\n    </tr>\n    <tr>\n      <th>34</th>\n      <td>39.1</td>\n      <td>774</td>\n    </tr>\n    <tr>\n      <th>35</th>\n      <td>35.2</td>\n      <td>753</td>\n    </tr>\n    <tr>\n      <th>36</th>\n      <td>22.6</td>\n      <td>504</td>\n    </tr>\n    <tr>\n      <th>37</th>\n      <td>17.4</td>\n      <td>472</td>\n    </tr>\n    <tr>\n      <th>38</th>\n      <td>32.1</td>\n      <td>686</td>\n    </tr>\n    <tr>\n      <th>39</th>\n      <td>26.0</td>\n      <td>579</td>\n    </tr>\n    <tr>\n      <th>40</th>\n      <td>18.1</td>\n      <td>411</td>\n    </tr>\n    <tr>\n      <th>41</th>\n      <td>27.4</td>\n      <td>563</td>\n    </tr>\n    <tr>\n      <th>42</th>\n      <td>15.9</td>\n      <td>402</td>\n    </tr>\n    <tr>\n      <th>43</th>\n      <td>37.7</td>\n      <td>827</td>\n    </tr>\n    <tr>\n      <th>44</th>\n      <td>21.5</td>\n      <td>504</td>\n    </tr>\n    <tr>\n      <th>45</th>\n      <td>31.6</td>\n      <td>655</td>\n    </tr>\n    <tr>\n      <th>46</th>\n      <td>22.8</td>\n      <td>548</td>\n    </tr>\n    <tr>\n      <th>47</th>\n      <td>28.0</td>\n      <td>568</td>\n    </tr>\n    <tr>\n      <th>48</th>\n      <td>28.7</td>\n      <td>642</td>\n    </tr>\n    <tr>\n      <th>49</th>\n      <td>19.6</td>\n      <td>508</td>\n    </tr>\n    <tr>\n      <th>50</th>\n      <td>39.2</td>\n      <td>804</td>\n    </tr>\n    <tr>\n      <th>51</th>\n      <td>34.4</td>\n      <td>721</td>\n    </tr>\n    <tr>\n      <th>52</th>\n      <td>38.5</td>\n      <td>823</td>\n    </tr>\n    <tr>\n      <th>53</th>\n      <td>37.4</td>\n      <td>783</td>\n    </tr>\n    <tr>\n      <th>54</th>\n      <td>29.9</td>\n      <td>601</td>\n    </tr>\n    <tr>\n      <th>55</th>\n      <td>38.0</td>\n      <td>812</td>\n    </tr>\n    <tr>\n      <th>56</th>\n      <td>17.2</td>\n      <td>362</td>\n    </tr>\n    <tr>\n      <th>57</th>\n      <td>19.9</td>\n      <td>462</td>\n    </tr>\n    <tr>\n      <th>58</th>\n      <td>16.1</td>\n      <td>344</td>\n    </tr>\n    <tr>\n      <th>59</th>\n      <td>23.1</td>\n      <td>558</td>\n    </tr>\n    <tr>\n      <th>60</th>\n      <td>24.7</td>\n      <td>521</td>\n    </tr>\n    <tr>\n      <th>61</th>\n      <td>21.8</td>\n      <td>476</td>\n    </tr>\n    <tr>\n      <th>62</th>\n      <td>35.7</td>\n      <td>788</td>\n    </tr>\n    <tr>\n      <th>63</th>\n      <td>23.9</td>\n      <td>491</td>\n    </tr>\n    <tr>\n      <th>64</th>\n      <td>22.0</td>\n      <td>497</td>\n    </tr>\n    <tr>\n      <th>65</th>\n      <td>28.6</td>\n      <td>661</td>\n    </tr>\n    <tr>\n      <th>66</th>\n      <td>18.5</td>\n      <td>372</td>\n    </tr>\n    <tr>\n      <th>67</th>\n      <td>35.1</td>\n      <td>758</td>\n    </tr>\n    <tr>\n      <th>68</th>\n      <td>16.9</td>\n      <td>396</td>\n    </tr>\n    <tr>\n      <th>69</th>\n      <td>39.7</td>\n      <td>867</td>\n    </tr>\n    <tr>\n      <th>70</th>\n      <td>34.3</td>\n      <td>699</td>\n    </tr>\n    <tr>\n      <th>71</th>\n      <td>20.0</td>\n      <td>410</td>\n    </tr>\n    <tr>\n      <th>72</th>\n      <td>15.1</td>\n      <td>368</td>\n    </tr>\n    <tr>\n      <th>73</th>\n      <td>35.4</td>\n      <td>767</td>\n    </tr>\n    <tr>\n      <th>74</th>\n      <td>32.7</td>\n      <td>712</td>\n    </tr>\n    <tr>\n      <th>75</th>\n      <td>33.2</td>\n      <td>724</td>\n    </tr>\n    <tr>\n      <th>76</th>\n      <td>34.3</td>\n      <td>716</td>\n    </tr>\n    <tr>\n      <th>77</th>\n      <td>16.9</td>\n      <td>395</td>\n    </tr>\n    <tr>\n      <th>78</th>\n      <td>24.0</td>\n      <td>539</td>\n    </tr>\n    <tr>\n      <th>79</th>\n      <td>17.9</td>\n      <td>387</td>\n    </tr>\n    <tr>\n      <th>80</th>\n      <td>36.6</td>\n      <td>838</td>\n    </tr>\n    <tr>\n      <th>81</th>\n      <td>30.6</td>\n      <td>676</td>\n    </tr>\n    <tr>\n      <th>82</th>\n      <td>23.3</td>\n      <td>480</td>\n    </tr>\n    <tr>\n      <th>83</th>\n      <td>16.6</td>\n      <td>402</td>\n    </tr>\n    <tr>\n      <th>84</th>\n      <td>22.8</td>\n      <td>477</td>\n    </tr>\n    <tr>\n      <th>85</th>\n      <td>23.1</td>\n      <td>536</td>\n    </tr>\n    <tr>\n      <th>86</th>\n      <td>33.2</td>\n      <td>749</td>\n    </tr>\n    <tr>\n      <th>87</th>\n      <td>30.9</td>\n      <td>643</td>\n    </tr>\n    <tr>\n      <th>88</th>\n      <td>37.2</td>\n      <td>823</td>\n    </tr>\n    <tr>\n      <th>89</th>\n      <td>26.8</td>\n      <td>598</td>\n    </tr>\n    <tr>\n      <th>90</th>\n      <td>18.0</td>\n      <td>435</td>\n    </tr>\n    <tr>\n      <th>91</th>\n      <td>32.8</td>\n      <td>763</td>\n    </tr>\n    <tr>\n      <th>92</th>\n      <td>34.0</td>\n      <td>723</td>\n    </tr>\n    <tr>\n      <th>93</th>\n      <td>29.0</td>\n      <td>607</td>\n    </tr>\n    <tr>\n      <th>94</th>\n      <td>34.3</td>\n      <td>709</td>\n    </tr>\n    <tr>\n      <th>95</th>\n      <td>27.3</td>\n      <td>572</td>\n    </tr>\n    <tr>\n      <th>96</th>\n      <td>28.1</td>\n      <td>610</td>\n    </tr>\n    <tr>\n      <th>97</th>\n      <td>25.7</td>\n      <td>574</td>\n    </tr>\n    <tr>\n      <th>98</th>\n      <td>15.6</td>\n      <td>370</td>\n    </tr>\n    <tr>\n      <th>99</th>\n      <td>17.7</td>\n      <td>429</td>\n    </tr>\n  </tbody>\n</table>\n</div>"
          },
          "metadata": {}
        }
      ],
      "execution_count": 11,
      "metadata": {
        "gather": {
          "logged": 1760707923192
        }
      }
    },
    {
      "cell_type": "code",
      "source": [
        "# Dividir em treino e teste\n",
        "X = df[[\"temperatura_c\"]]\n",
        "y = df[\"vendas\"]\n",
        "\n",
        "X_train, X_test, y_train, y_test = train_test_split(X, y, test_size=0.2, random_state=42)\n",
        "\n",
        "# Treinar o modelo\n",
        "modelo = LinearRegression()\n",
        "modelo.fit(X_train, y_train)\n",
        "\n",
        "# Avaliar\n",
        "y_pred = modelo.predict(X_test)\n",
        "r2 = r2_score(y_test, y_pred)\n",
        "mae = mean_absolute_error(y_test, y_pred)\n",
        "\n",
        "print(f\"Coeficiente angular (inclinação): {modelo.coef_[0]:.2f}\")\n",
        "print(f\"Intercepto: {modelo.intercept_:.2f}\")\n",
        "print(f\"R²: {r2:.3f}\")\n",
        "print(f\"Erro médio absoluto (MAE): {mae:.2f}\")\n"
      ],
      "outputs": [
        {
          "output_type": "stream",
          "name": "stdout",
          "text": "Coeficiente angular (inclinação): 19.51\nIntercepto: 61.64\nR²: 0.975\nErro médio absoluto (MAE): 17.80\n"
        }
      ],
      "execution_count": 5,
      "metadata": {
        "gather": {
          "logged": 1760705972192
        }
      }
    },
    {
      "cell_type": "code",
      "source": [
        "# Teste de previsão com todas as temperaturas do dataset\n",
        "previsoes = modelo.predict(df[[\"temperatura_c\"]])\n",
        "\n",
        "resultado = pd.DataFrame({\n",
        "    \"temperatura_c\": df[\"temperatura_c\"],\n",
        "    \"vendas_previstas\": previsoes.round().astype(int)\n",
        "})\n",
        "\n",
        "pd.set_option('display.max_rows', None)  # mostra todas as 100 linhas\n",
        "print(resultado)\n",
        "\n"
      ],
      "outputs": [
        {
          "output_type": "stream",
          "name": "stdout",
          "text": "    temperatura_c  vendas_previstas\n0            24.4               538\n1            38.8               819\n2            33.3               711\n3            30.0               647\n4            18.9               430\n5            18.9               430\n6            16.5               384\n7            36.7               778\n8            30.0               647\n9            32.7               700\n10           15.5               364\n11           39.2               827\n12           35.8               760\n13           20.3               458\n14           19.5               442\n15           19.6               444\n16           22.6               503\n17           28.1               610\n18           25.8               565\n19           22.3               497\n20           30.3               653\n21           18.5               423\n22           22.3               497\n23           24.2               534\n24           26.4               577\n25           34.6               737\n26           20.0               452\n27           27.9               606\n28           29.8               643\n29           16.2               378\n30           30.2               651\n31           19.3               438\n32           16.6               386\n33           38.7               817\n34           39.1               825\n35           35.2               748\n36           22.6               503\n37           17.4               401\n38           32.1               688\n39           26.0               569\n40           18.1               415\n41           27.4               596\n42           15.9               372\n43           37.7               797\n44           21.5               481\n45           31.6               678\n46           22.8               507\n47           28.0               608\n48           28.7               622\n49           19.6               444\n50           39.2               827\n51           34.4               733\n52           38.5               813\n53           37.4               791\n54           29.9               645\n55           38.0               803\n56           17.2               397\n57           19.9               450\n58           16.1               376\n59           23.1               512\n60           24.7               544\n61           21.8               487\n62           35.7               758\n63           23.9               528\n64           22.0               491\n65           28.6               620\n66           18.5               423\n67           35.1               747\n68           16.9               391\n69           39.7               836\n70           34.3               731\n71           20.0               452\n72           15.1               356\n73           35.4               752\n74           32.7               700\n75           33.2               709\n76           34.3               731\n77           16.9               391\n78           24.0               530\n79           17.9               411\n80           36.6               776\n81           30.6               659\n82           23.3               516\n83           16.6               386\n84           22.8               507\n85           23.1               512\n86           33.2               709\n87           30.9               665\n88           37.2               788\n89           26.8               585\n90           18.0               413\n91           32.8               702\n92           34.0               725\n93           29.0               628\n94           34.3               731\n95           27.3               594\n96           28.1               610\n97           25.7               563\n98           15.6               366\n99           17.7               407\n"
        }
      ],
      "execution_count": 12,
      "metadata": {
        "gather": {
          "logged": 1760708766329
        }
      }
    },
    {
      "cell_type": "code",
      "source": [
        "import joblib\n",
        "import os\n",
        "\n",
        "# Criar pasta de saída\n",
        "os.makedirs(\"model\", exist_ok=True)\n",
        "\n",
        "# Salvar o modelo treinado\n",
        "joblib.dump(modelo, \"model/modelo_sorvete.pkl\")\n",
        "\n",
        "print(\"Modelo salvo com sucesso!\")\n"
      ],
      "outputs": [
        {
          "output_type": "stream",
          "name": "stdout",
          "text": "Modelo salvo com sucesso!\n"
        }
      ],
      "execution_count": 7,
      "metadata": {
        "gather": {
          "logged": 1760706080214
        }
      }
    },
    {
      "cell_type": "code",
      "source": [
        "from azureml.core import Workspace, Model\n",
        "\n",
        "# Conectar ao workspace atual\n",
        "ws = Workspace.from_config()\n",
        "\n",
        "# Registrar o modelo\n",
        "model = Model.register(\n",
        "    workspace=ws,\n",
        "    model_path=\"model/modelo_sorvete.pkl\",\n",
        "    model_name=\"modelo_sorvete_v1\",\n",
        "    description=\"Modelo de previsão de vendas de sorvete baseado na temperatura\"\n",
        ")\n",
        "\n",
        "print(f\"Modelo registrado com sucesso: {model.name}, versão {model.version}\")\n"
      ],
      "outputs": [
        {
          "output_type": "stream",
          "name": "stdout",
          "text": "Registering model modelo_sorvete_v1\nModelo registrado com sucesso: modelo_sorvete_v1, versão 1\n"
        }
      ],
      "execution_count": 8,
      "metadata": {
        "gather": {
          "logged": 1760706124257
        }
      }
    },
    {
      "cell_type": "code",
      "source": [],
      "outputs": [],
      "execution_count": null,
      "metadata": {}
    }
  ],
  "metadata": {
    "kernelspec": {
      "name": "python310-sdkv2",
      "language": "python",
      "display_name": "Python 3.10 - SDK v2"
    },
    "language_info": {
      "name": "python",
      "version": "3.10.18",
      "mimetype": "text/x-python",
      "codemirror_mode": {
        "name": "ipython",
        "version": 3
      },
      "pygments_lexer": "ipython3",
      "nbconvert_exporter": "python",
      "file_extension": ".py"
    },
    "kernel_info": {
      "name": "python310-sdkv2"
    },
    "nteract": {
      "version": "nteract-front-end@1.0.0"
    },
    "microsoft": {
      "host": {
        "AzureML": {
          "notebookHasBeenCompleted": true
        }
      }
    }
  },
  "nbformat": 4,
  "nbformat_minor": 2
}